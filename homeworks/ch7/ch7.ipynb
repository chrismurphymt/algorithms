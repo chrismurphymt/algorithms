{
  "cells": [
    {
      "cell_type": "code",
      "source": [
        "import numpy\n",
        "import time\n",
        "# Fibonacci charact"
      ],
      "outputs": [],
      "execution_count": 2,
      "metadata": {
        "collapsed": false,
        "outputHidden": false,
        "inputHidden": false
      }
    },
    {
      "cell_type": "code",
      "source": [
        "# class used as function \"decorator\":\n",
        "class Memoized:\n",
        "    def __init__(self, function):\n",
        "        self._function = function\n",
        "        self._cache = {}\n",
        "    def __call__(self, *args):\n",
        "        if args not in self._cache:\n",
        "            # not in the cache: call the function and store the result in\n",
        "            # the cache\n",
        "            self._cache[args] = self._function(*args)\n",
        "        # the result must now be in the cache:\n",
        "        return self._cache[args]\n",
        "\n"
      ],
      "outputs": [],
      "execution_count": 3,
      "metadata": {
        "collapsed": false,
        "outputHidden": false,
        "inputHidden": false
      }
    },
    {
      "cell_type": "markdown",
      "source": [
        "(a) Write a memoized implementation of z in python."
      ],
      "metadata": {
        "collapsed": false,
        "outputHidden": false,
        "inputHidden": false
      }
    },
    {
      "cell_type": "code",
      "source": [
        "#Zombie \n",
        "@Memoized\n",
        "def z(t):\n",
        "    if t <=2:\n",
        "        return 1\n",
        "    return 1.2*z(t-1)+0.2*z(t-2)+z(t-3)"
      ],
      "outputs": [],
      "execution_count": 4,
      "metadata": {
        "collapsed": false,
        "outputHidden": false,
        "inputHidden": false
      }
    },
    {
      "cell_type": "code",
      "source": [
        "missoula_population = 69000\n",
        "t = 1\n",
        "full_zombie = False\n",
        "while full_zombie == False:\n",
        "   \n",
        "    if z(t) >= missoula_population:\n",
        "        print (z(t))\n",
        "        full_zombie = True\n",
        "    t += 1"
      ],
      "outputs": [
        {
          "output_type": "stream",
          "name": "stdout",
          "text": [
            "70591.00952234952\n"
          ]
        }
      ],
      "execution_count": 7,
      "metadata": {
        "collapsed": false,
        "outputHidden": false,
        "inputHidden": false
      }
    },
    {
      "cell_type": "code",
      "source": [
        "# Fibonacci characteristic matrix:\n",
        "A=numpy.matrix([[1,1,1],[1,1,0],[1,0,0]])\n",
        "\n",
        "lambda1, lambda2, lambda3 = numpy.linalg.eigvals(A)\n",
        "\n",
        "print(\"lam1, \", lambda1, \" lam2, \", lambda2, \" lam3 \", lambda3)\n",
        "M=numpy.matrix([[lambda1**-1,lambda2**-1,lambda3**-1],\n",
        "                [lambda1**0,lambda2**0,lambda3**0]])\n"
      ],
      "outputs": [
        {
          "output_type": "stream",
          "name": "stdout",
          "text": [
            "lam1,  2.2469796037174676  lam2,  -0.8019377358048383  lam3  0.5549581320873711\n"
          ]
        }
      ],
      "execution_count": 19,
      "metadata": {
        "collapsed": false,
        "outputHidden": false,
        "inputHidden": false
      }
    }
  ],
  "metadata": {
    "kernel_info": {
      "name": "python3"
    },
    "language_info": {
      "name": "python",
      "version": "3.7.1",
      "mimetype": "text/x-python",
      "codemirror_mode": {
        "name": "ipython",
        "version": 3
      },
      "pygments_lexer": "ipython3",
      "nbconvert_exporter": "python",
      "file_extension": ".py"
    },
    "kernelspec": {
      "name": "python3",
      "language": "python",
      "display_name": "Python 3"
    },
    "nteract": {
      "version": "0.12.3"
    }
  },
  "nbformat": 4,
  "nbformat_minor": 4
}